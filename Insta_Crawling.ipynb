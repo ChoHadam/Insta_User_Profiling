{
  "nbformat": 4,
  "nbformat_minor": 0,
  "metadata": {
    "colab": {
      "name": "Insta_Crawling.ipynb",
      "provenance": [],
      "collapsed_sections": [],
      "authorship_tag": "ABX9TyO6B4w6pQq37XCc+17KEC72",
      "include_colab_link": true
    },
    "kernelspec": {
      "name": "python3",
      "display_name": "Python 3"
    }
  },
  "cells": [
    {
      "cell_type": "markdown",
      "metadata": {
        "id": "view-in-github",
        "colab_type": "text"
      },
      "source": [
        "<a href=\"https://colab.research.google.com/github/ChoHadam/Insta_User_Profiling/blob/master/Insta_Crawling.ipynb\" target=\"_parent\"><img src=\"https://colab.research.google.com/assets/colab-badge.svg\" alt=\"Open In Colab\"/></a>"
      ]
    },
    {
      "cell_type": "code",
      "metadata": {
        "id": "H5yPVxceT1JS",
        "colab_type": "code",
        "colab": {}
      },
      "source": [
        "import requests, re, json, urllib, datetime\n",
        "import pandas as pd\n",
        "from bs4 import BeautifulSoup\n",
        "\n",
        "#search = '%EC%9D%B4%EC%8A%B9%EA%B8%B0'\n",
        "#def insta(query):\n",
        "#search = urllib.parse.quote(query)\n",
        "\n",
        "# 헤더 저장\n",
        "headers = {\n",
        "            'cookie' : 'ig_did=1DB997A1-85F5-410B-A44B-DB3A31DE9BF2; mid=XxLtBgALAAHy9DlenU_IjVp8c-vI; csrftoken=w8fk3ZvDCg3GeMsgOGjj4c7C1J1CDDEv; ds_user_id=2164165712; sessionid=2164165712%3A0i2iNaTHNVLjRS%3A25; shbid=980; shbts=1597821443.3613222; rur=VLL; urlgen=\"{\\\"222.107.238.125\\\": 4766}:1k90Xa:Xh5aOhIn5p2sNhAMjIh4OesdfJk\"',\n",
        "            'user-agent' : 'Mozilla/5.0 (Windows NT 10.0; Win64; x64) AppleWebKit/537.36 (KHTML, like Gecko) Chrome/84.0.4147.125 Safari/537.36',\n",
        "            }\n",
        "            \n",
        "# 해시 태그 설정\n",
        "tags = \"20대\"\n",
        "\n",
        "res = requests.get('https://www.instagram.com/explore/tags/{}/?__a=1'.format(tags), headers = headers)\n",
        "res.encoding = 'utf-8'\n",
        "js = json.loads(res.text)"
      ],
      "execution_count": 2,
      "outputs": []
    },
    {
      "cell_type": "code",
      "metadata": {
        "id": "H9ILZj6OoRBX",
        "colab_type": "code",
        "colab": {
          "base_uri": "https://localhost:8080/",
          "height": 34
        },
        "outputId": "08cba85f-65df-483d-89c7-345b50577fb0"
      },
      "source": [
        "user_id = []\n",
        "\n",
        "for i in js['graphql']['hashtag']['edge_hashtag_to_media']['edges']:\n",
        "    # user 이름으로 접속할 경우 게시글이 다른 게시물로 넘어감\n",
        "    user_id.append(i['node']['owner']['id'])\n",
        "\n",
        "user_id = list(set(user_id))\n",
        "user_id[:5]"
      ],
      "execution_count": 3,
      "outputs": [
        {
          "output_type": "execute_result",
          "data": {
            "text/plain": [
              "['8321534366', '1716835245', '40215342949', '39195862640', '624593782']"
            ]
          },
          "metadata": {
            "tags": []
          },
          "execution_count": 3
        }
      ]
    },
    {
      "cell_type": "code",
      "metadata": {
        "id": "v_v66qsuOKTm",
        "colab_type": "code",
        "colab": {}
      },
      "source": [
        "# 유저 게시글 저장\n",
        "\n",
        "\"\"\"\n",
        "post_user 형태\n",
        "{\"user_ID\" : {\"user_info\" : \"user_name\", \"post_content\" : [{\"post_code\", \"post_text\", \"post_location\", \"post_time\", \"post_like\"},\n",
        "                                                           {\"post_code\", \"post_text\", \"post_location\", \"post_time\", \"post_like\"}]}}}                                                \n",
        "\"\"\"\n",
        "\n",
        "import time\n",
        "\n",
        "def insta_user_crawl(js, crawl_count):\n",
        "    post_codes = []\n",
        "    for i in range(len(js['data']['user']['edge_owner_to_timeline_media']['edges'])):\n",
        "        crawl_count += 1\n",
        "        if crawl_count > 500:\n",
        "            time.sleep(300)\n",
        "        user_id = js['data']['user']['edge_owner_to_timeline_media']['edges'][i]['node']['owner']['id'] # 유저 아이디 기준으로 딕셔너리 생성\n",
        "        post_code = js['data']['user']['edge_owner_to_timeline_media']['edges'][i]['node']['shortcode']\n",
        "        post_codes.append(post_code)\n",
        "        new_post = {}\n",
        "        if user_id not in new_post.keys() :\n",
        "            new_post[user_id] = {}\n",
        "        new_post[user_id]['user_name'] = js['data']['user']['edge_owner_to_timeline_media']['edges'][i]['node']['owner']['username']\n",
        "        if js['data']['user']['edge_owner_to_timeline_media']['edges'][i]['node']['location'] != None:\n",
        "            location = js['data']['user']['edge_owner_to_timeline_media']['edges'][i]['node']['location']['name']\n",
        "        else:\n",
        "            location = None\n",
        "        if 'post_content' not in new_post[user_id].keys():\n",
        "            new_post[user_id]['post_content'] = []\n",
        "        new_post[user_id]['post_content'].append({'post_code' : post_code,\n",
        "                                                'post_text' : js['data']['user']['edge_owner_to_timeline_media']['edges'][i]['node']['edge_media_to_caption']['edges'][0]['node']['text'], \n",
        "                                                'post_time' : (datetime.datetime.fromtimestamp(int(js['data']['user']['edge_owner_to_timeline_media']['edges'][i]['node']['taken_at_timestamp']))).strftime('%Y-%m-%d %H:%M:%S'),\n",
        "                                                'post_location' : location,\n",
        "                                                'post_like' : js['data']['user']['edge_owner_to_timeline_media']['edges'][i]['node']['edge_media_preview_like']['count']})\n",
        "\n",
        "        \n",
        "        if user_id not in post_user.keys() :\n",
        "            post_user[user_id] = new_post[user_id]\n",
        "        else :\n",
        "            post_user[user_id]['post_content'] = post_user[user_id]['post_content'] + new_post[user_id]['post_content']\n",
        "        # 크롤링 진행 상황 출력\n",
        "        if crawl_count % 100 == 0:\n",
        "            print(\"크롤링 횟수 : \" + crawl_count)\n",
        "\n",
        "        return post_user, crawl_count, post_code"
      ],
      "execution_count": 4,
      "outputs": []
    },
    {
      "cell_type": "code",
      "metadata": {
        "id": "IWx_gxU4UADv",
        "colab_type": "code",
        "colab": {}
      },
      "source": [
        "post_user = {}\n",
        "crawl_count = 0\n",
        "\n",
        "for user in user_id:\n",
        "    url = 'https://www.instagram.com/graphql/query/?query_hash=bfa387b2992c3a52dcbe447467b4b771&variables=%7B\"id\"%3A\"{}\"%2C\"first\"%3A12'.format(user)\n",
        "    url_end = '%7D'\n",
        "    res = requests.get(url + url_end, headers=headers)\n",
        "    res.encoding = 'utf-8'\n",
        "    js = json.loads(res.text)\n",
        "    while True:\n",
        "        if js['data']['user']['edge_owner_to_timeline_media']['page_info']['has_next_page'] == True: # 다음 페이지가 존재할 경우\n",
        "            new_url = url + user + '%2C\"after\"%3A\"{}\"'.format(js['data']['user']['edge_owner_to_timeline_media']['page_info']['end_cursor'])+ url_end\n",
        "            print(new_url)\n",
        "            res1 = requests.get(new_url)\n",
        "            res1.encoding='utf-8'\n",
        "            js = json.loads(res1.text)\n",
        "            insta_user_crawl(js, crawl_count)\n",
        "        else:\n",
        "            print(new_url)\n",
        "            res1 = requests.get(new_url)\n",
        "            res1.encoding='utf-8'\n",
        "            js = json.loads(res1.text)\n",
        "            insta_user_crawl(js, crawl_count)\n",
        "            break\n",
        "\n",
        "post_user"
      ],
      "execution_count": null,
      "outputs": []
    },
    {
      "cell_type": "code",
      "metadata": {
        "id": "gRkFFDO6yu3V",
        "colab_type": "code",
        "colab": {
          "base_uri": "https://localhost:8080/",
          "height": 582
        },
        "outputId": "e6c769aa-9019-442e-f319-e520c557b23d"
      },
      "source": [
        "post_user['8321534366']"
      ],
      "execution_count": 16,
      "outputs": [
        {
          "output_type": "execute_result",
          "data": {
            "text/plain": [
              "{'post_content': [{'post_code': 'CCfIDSdpuc1',\n",
              "   'post_like': 32,\n",
              "   'post_location': None,\n",
              "   'post_text': '오늘 웨스턴빌리프 첫타임신랑신부님\\n.\\n.\\n.\\n이렇게 예쁘실수가..\\n너무 예쁘세요^^\\n\\n두분덕분에 웨딩홀이 더 반짝반짝\\n.\\n.\\n.\\n코로나로 인해 예식연기..\\n그간 마음고생 많으셨죠..?\\n.\\n.\\n오늘 너무 이쁘시네요^^\\n\\n항상 행복하네요 ❤❤\\n\\n더욱 화사해진 웨스턴 빌리프 웨딩홀에 여러분들을 초대합니다☝\\n⠀\\n\\n━━━━━━━━━💍𝐖𝐞𝐬𝐭𝐞𝐫𝐧 𝐁𝐞𝐥𝐢𝐞𝐟━──··\\n⠀\\n⠀#일산웨딩홀 ✦#웨스턴빌리프 웨딩홀✦\\n⠀\\n┊ 웨딩 ┊ 행사 ┊ 전시 ┊ 채플웨딩 ┊ 문화공간 ┊\\n⠀\\n✲문의✲\\nᴛᴇʟ 031-815-8588\\n⠀\\n잊을 수 없는 소중한 추억을 선물합니다🤵👰💕\\n━━━━━━━━━━━━━━━━━━──··\\n✓ 일산 유일의 단독 채플 예식\\n✓ 2시간 동안의 여유로운 진행\\n✓ one-stop 시스템으로 편안한 동선.\\n✓ 완벽한 주차시설, 지하철역 수시 셔틀버스 운행\\n✓ 빠르고 편한 상담을 위해 방문 전 사전예약제 진행\\n✓ 온라인 예약 가능\\n.\\n.\\n#일산 #파주 #일산웨딩홀추천 #파주웨딩홀 #좋아요\\n#스몰웨딩장소 #스몰웨딩홀 #예식장추천 #결혼준비\\n#럽스타그램 #웨딩홀추천 #웨딩홀투어 #웨딩홀문의\\n#웨딩홀할인 #웨딩박람회 #단독웨딩홀 #채플웨딩\\n#채플웨딩홀 #예비신랑 #예비신부 #선팔하면맞팔\\n#맞팔100 #좋아요반사 #일산웨딩홀 #김포웨딩홀 #블랑해리 #레이나웨딩',\n",
              "   'post_time': '2020-07-11 03:15:04'},\n",
              "  {'post_code': 'B-EsBOiJicE',\n",
              "   'post_like': 17,\n",
              "   'post_location': None,\n",
              "   'post_text': '-\\n#세스코 전문살균 6차 실시 👍🏻\\n방문하시는 모든 귀빈 여러분들의 걱정을 덜어드리기 위해서 전문업체에 맡겨 6회차 방역을 진행하였습니다.\\n⠀\\n오로지 당신만을 위해 준비된 곳, 웨스턴 빌리프입니다🙂\\n━━━━━━━━━💍𝐖𝐞𝐬𝐭𝐞𝐫𝐧 𝐁𝐞𝐥𝐢𝐞𝐟━──··\\n⠀\\n⠀#일산웨딩홀 ✦#웨스턴빌리프 웨딩홀✦\\n⠀\\n┊ 웨딩 ┊ 행사 ┊ 전시 ┊ 채플웨딩 ┊ 문화공간 ┊\\n⠀\\n✲문의✲\\nᴛᴇʟ 031-815-8588\\n⠀\\n잊을 수 없는 소중한 추억을 선물합니다🤵👰💕\\n━━━━━━━━━━━━━━━━━━──··\\n✓일산 유일의 단독 채플 예식\\n✓2시간 동안의 여유로운 진행\\n✓one-stop 시스템으로 편안한 동선.\\n✓완벽한 주차시설, 지하철역 수시 셔틀버스 운행\\n✓빠르고 편한 상담을 위해 방문 전 사전예약제 진행\\n✓온라인 예약 가능\\n.\\n.\\n#일산웨딩홀추천 #파주웨딩홀 #코로나 #코로나바이러스 #방역실시 #스몰웨딩장소 #스몰웨딩홀 #예식장추천 #결혼준비 #럽스타그램 #웨딩홀추천 #웨딩홀투어 #웨딩홀문의 #웨딩홀할인 #웨딩박람회 #단독웨딩홀 #채플웨딩 #채플웨딩홀 #예비신랑 #예비신부 #선팔하면맞팔\\n#결혼해요 #프로포즈 #일산웨딩홀 #김포웨딩홀\\n#블랑해리 #레이나웨딩',\n",
              "   'post_time': '2020-03-23 10:44:17'},\n",
              "  {'post_code': 'B6hxDfhFzn1',\n",
              "   'post_like': 30,\n",
              "   'post_location': None,\n",
              "   'post_text': '-\\n⠀\\n❝ 500석 규모 120여가지 음식 종류🍾❞\\n⠀\\n감사한 분들을 위한 고급스러운 연회장\\n#프리미엄뷔페 연회로 귀하의 품격을 한층 더 높여 드리고 최고의 쉐프들이 정성을 다해 고객을 모십니다🤵👰\\n⠀\\n━━━━━━━━━💍𝐖𝐞𝐬𝐭𝐞𝐫𝐧 𝐁𝐞𝐥𝐢𝐞𝐟━──··\\n⠀\\n⠀#일산웨딩홀 ✦#웨스턴빌리프 웨딩홀✦\\n⠀\\n┊ 웨딩 ┊ 행사 ┊ 전시 ┊ 채플웨딩 ┊ 문화공간 ┊\\n⠀\\n✲문의✲\\nᴛᴇʟ 031-815-8588\\n⠀\\n잊을 수 없는 소중한 추억을 선물합니다🤵👰💕\\n━━━━━━━━━━━━━━━━━━──··\\n✓일산 유일의 단독 채플 예식\\n✓2시간 동안의 여유로운 진행\\n✓one-stop 시스템으로 편안한 동선.\\n✓완벽한 주차시설, 지하철역 수시 셔틀버스 운행\\n✓빠르고 편한 상담을 위해 방문 전 사전예약제 진행\\n✓온라인 예약 가능\\n.\\n.\\n#일산#파주#일산웨딩홀추천#파주웨딩홀#김포웨딩홀#스몰웨딩장소#스몰웨딩홀#예식장추천#결혼준비#럽스타그램#웨딩홀추천#웨딩홀투어#웨딩홀문의#웨딩홀할인#웨딩박람회#단독웨딩홀#채플웨딩#채플웨딩홀#예비신랑#예비신부#선팔하면맞팔#맞팔100#좋아요#좋아요반사#좋반#소통환영',\n",
              "   'post_time': '2019-12-26 07:40:41'},\n",
              "  {'post_code': 'B3HGlYgASoL',\n",
              "   'post_like': 20,\n",
              "   'post_location': None,\n",
              "   'post_text': '화려한 꽃으로 장식된 포토테이블\\n하객들이 제일 먼저 보는 부분!\\n⠀\\n놓치면 안되는 부분까지 책임지는\\n웨스턴빌리프 웨딩홀🤵👰 ⠀\\n가장 아름다운날 기쁨과 감동적인\\n순간들을 함께하겠습니다💕\\n⠀\\n생에 최고의 순간을 특별하게 만나보세요😊\\n⠀\\n━━━━━━━━━💍𝐖𝐞𝐬𝐭𝐞𝐫𝐧 𝐁𝐞𝐥𝐢𝐞𝐟━──··\\n⠀\\n⠀#일산웨딩홀 ✦#웨스턴빌리프 웨딩홀✦\\n⠀\\n┊ 웨딩 ┊ 행사 ┊ 전시 ┊ 채플웨딩 ┊ 문화공간 ┊\\n⠀\\n✲문의✲\\nᴛᴇʟ 031-815-8588\\n⠀\\n잊을 수 없는 소중한 추억을 선물합니다🤵👰💕\\n━━━━━━━━━━━━━━━━━━──··\\n✓일산 유일의 단독 채플 예식\\n✓2시간 동안의 여유로운 진행\\n✓one-stop 시스템으로 편안한 동선.\\n✓완벽한 주차시설, 지하철역 수시 셔틀버스 운행\\n✓빠르고 편한 상담을 위해 방문 전 사전예약제 진행\\n✓온라인 예약 가능\\n.\\n.\\n#일산#파주#일사웨딩홀일산웨딩홀추천#파주웨딩홀#김포웨딩홀#스몰웨딩장소#스몰웨딩홀#예식장추천#결혼준비#럽스타그램#웨딩홀추천#웨딩홀투어#웨딩홀문의#웨딩홀할인#웨딩박람회#단독웨딩홀#채플웨딩#채플웨딩홀#예비신랑#예비신부#맞팔#맞팔해요#좋아요#좋아요반사#소통#소통해요',\n",
              "   'post_time': '2019-10-02 09:35:08'},\n",
              "  {'post_code': 'BzxUV5glqVg',\n",
              "   'post_like': 14,\n",
              "   'post_location': None,\n",
              "   'post_text': '⠀⠀\\n장마철 높은 습도와 꿉꿉한 공기 때문에\\n피부 컨티션을 최상의 상태로 유지하기가 \\n어려운 만큼 더욱 신경써서 피부관리 해볼까요?\\n.\\n.\\n#피부#피부스타그램#장마철#피부미인#뷰티스타그램#뷰티_좋아요#관리하는여자#관리하는남자#훈남#훈녀#셀스타그램#셀피#ootd#맞팔#선팔#소통#맞팔해요#소통해요#좋아요#좋아요반사#맞팔반사',\n",
              "   'post_time': '2019-07-11 08:57:53'},\n",
              "  {'post_code': 'BzxUV5glqVg',\n",
              "   'post_like': 14,\n",
              "   'post_location': None,\n",
              "   'post_text': '⠀⠀\\n장마철 높은 습도와 꿉꿉한 공기 때문에\\n피부 컨티션을 최상의 상태로 유지하기가 \\n어려운 만큼 더욱 신경써서 피부관리 해볼까요?\\n.\\n.\\n#피부#피부스타그램#장마철#피부미인#뷰티스타그램#뷰티_좋아요#관리하는여자#관리하는남자#훈남#훈녀#셀스타그램#셀피#ootd#맞팔#선팔#소통#맞팔해요#소통해요#좋아요#좋아요반사#맞팔반사',\n",
              "   'post_time': '2019-07-11 08:57:53'}],\n",
              " 'user_name': 'topwhw888'}"
            ]
          },
          "metadata": {
            "tags": []
          },
          "execution_count": 16
        }
      ]
    },
    {
      "cell_type": "code",
      "metadata": {
        "id": "wVHOrX3DztQ8",
        "colab_type": "code",
        "colab": {
          "base_uri": "https://localhost:8080/",
          "height": 239
        },
        "outputId": "c26e1ed4-bab9-4d0e-b526-0ef25ecece52"
      },
      "source": [
        "#post_reply 형태 = {\"post_code\" : {\"user_code\", \"reply_user_name\", \"reply_content\" : [{\"reply_text\", \"reply_time\", \"reply_like\"}]}}\n",
        "post_reply = {}\n",
        "\n",
        "for i in range(len(js['data']['user']['edge_owner_to_timeline_media']['edges'])):\n",
        "    new_reply = {}\n",
        "    post_code = js['data']['user']['edge_owner_to_timeline_media']['edges'][i]['node']['shortcode']\n",
        "    if js['data']['user']['edge_owner_to_timeline_media']['edges'][i]['node']['edge_media_to_comment']['count'] != 0:\n",
        "        if post_code not in new_reply.keys() :\n",
        "            new_reply[post_code] = {}\n",
        "        if 'reply_content' not in new_reply[post_code].keys():\n",
        "            new_reply[post_code]['reply_content'] = []\n",
        "        if js['data']['user']['edge_owner_to_timeline_media']['edges'][i]['node']['edge_media_to_comment']['edges'][i]['node'][\"edge_liked_by\"] == None:\n",
        "            like = 0\n",
        "        else:\n",
        "            like = js['data']['user']['edge_owner_to_timeline_media']['edges'][i]['node']['edge_media_to_comment']['edges'][i]['node'][\"edge_liked_by\"]['count']\n",
        "\n",
        "\n",
        "        for i in range(len(js['data']['user']['edge_owner_to_timeline_media']['edges'][i]['node']['edge_media_to_comment']['edges'])):\n",
        "            new_reply[post_code]['reply_user_name'] = js['data']['user']['edge_owner_to_timeline_media']['edges'][i]['node']['edge_media_to_comment']['edges'][i]['node']['owner']['username']\n",
        "            new_reply[post_code]['reply_content'].append({'reply_text' : js['data']['user']['edge_owner_to_timeline_media']['edges'][i]['node']['edge_media_to_comment']['edges'][i]['node']['text'],\n",
        "                                                          'reply_time' : (datetime.datetime.fromtimestamp(int(js['data']['user']['edge_owner_to_timeline_media']['edges'][i]['node']['edge_media_to_comment']['edges'][i]['node']['created_at']))).strftime('%Y-%m-%d %H:%M:%S'),\n",
        "                                                          'reply_like' : like})                \n",
        "        if post_code not in post_reply.keys() :\n",
        "            post_reply[post_code] = new_reply[post_code]\n",
        "        else :\n",
        "            post_reply[post_code]['reply_content'] = post_reply[post_code]['reply_content'] + new_reply[post_code]['reply_content']\n",
        "\n",
        "post_reply\n",
        "    # for \n",
        "    #     new_reply[post_code]['reply_user_name'] ="
      ],
      "execution_count": 129,
      "outputs": [
        {
          "output_type": "error",
          "ename": "KeyError",
          "evalue": "ignored",
          "traceback": [
            "\u001b[0;31m---------------------------------------------------------------------------\u001b[0m",
            "\u001b[0;31mKeyError\u001b[0m                                  Traceback (most recent call last)",
            "\u001b[0;32m<ipython-input-129-71c757fe73c9>\u001b[0m in \u001b[0;36m<module>\u001b[0;34m()\u001b[0m\n\u001b[1;32m     10\u001b[0m         \u001b[0;32mif\u001b[0m \u001b[0;34m'reply_content'\u001b[0m \u001b[0;32mnot\u001b[0m \u001b[0;32min\u001b[0m \u001b[0mnew_reply\u001b[0m\u001b[0;34m[\u001b[0m\u001b[0mpost_code\u001b[0m\u001b[0;34m]\u001b[0m\u001b[0;34m.\u001b[0m\u001b[0mkeys\u001b[0m\u001b[0;34m(\u001b[0m\u001b[0;34m)\u001b[0m\u001b[0;34m:\u001b[0m\u001b[0;34m\u001b[0m\u001b[0;34m\u001b[0m\u001b[0m\n\u001b[1;32m     11\u001b[0m             \u001b[0mnew_reply\u001b[0m\u001b[0;34m[\u001b[0m\u001b[0mpost_code\u001b[0m\u001b[0;34m]\u001b[0m\u001b[0;34m[\u001b[0m\u001b[0;34m'reply_content'\u001b[0m\u001b[0;34m]\u001b[0m \u001b[0;34m=\u001b[0m \u001b[0;34m[\u001b[0m\u001b[0;34m]\u001b[0m\u001b[0;34m\u001b[0m\u001b[0;34m\u001b[0m\u001b[0m\n\u001b[0;32m---> 12\u001b[0;31m         \u001b[0;32mif\u001b[0m \u001b[0mjs\u001b[0m\u001b[0;34m[\u001b[0m\u001b[0;34m'data'\u001b[0m\u001b[0;34m]\u001b[0m\u001b[0;34m[\u001b[0m\u001b[0;34m'user'\u001b[0m\u001b[0;34m]\u001b[0m\u001b[0;34m[\u001b[0m\u001b[0;34m'edge_owner_to_timeline_media'\u001b[0m\u001b[0;34m]\u001b[0m\u001b[0;34m[\u001b[0m\u001b[0;34m'edges'\u001b[0m\u001b[0;34m]\u001b[0m\u001b[0;34m[\u001b[0m\u001b[0mi\u001b[0m\u001b[0;34m]\u001b[0m\u001b[0;34m[\u001b[0m\u001b[0;34m'node'\u001b[0m\u001b[0;34m]\u001b[0m\u001b[0;34m[\u001b[0m\u001b[0;34m'edge_media_to_comment'\u001b[0m\u001b[0;34m]\u001b[0m\u001b[0;34m[\u001b[0m\u001b[0;34m'edges'\u001b[0m\u001b[0;34m]\u001b[0m\u001b[0;34m[\u001b[0m\u001b[0mi\u001b[0m\u001b[0;34m]\u001b[0m\u001b[0;34m[\u001b[0m\u001b[0;34m'node'\u001b[0m\u001b[0;34m]\u001b[0m\u001b[0;34m[\u001b[0m\u001b[0;34m\"edge_liked_by\"\u001b[0m\u001b[0;34m]\u001b[0m \u001b[0;34m==\u001b[0m \u001b[0;32mNone\u001b[0m\u001b[0;34m:\u001b[0m\u001b[0;34m\u001b[0m\u001b[0;34m\u001b[0m\u001b[0m\n\u001b[0m\u001b[1;32m     13\u001b[0m             \u001b[0mlike\u001b[0m \u001b[0;34m=\u001b[0m \u001b[0;36m0\u001b[0m\u001b[0;34m\u001b[0m\u001b[0;34m\u001b[0m\u001b[0m\n\u001b[1;32m     14\u001b[0m         \u001b[0;32melse\u001b[0m\u001b[0;34m:\u001b[0m\u001b[0;34m\u001b[0m\u001b[0;34m\u001b[0m\u001b[0m\n",
            "\u001b[0;31mKeyError\u001b[0m: 'edge_liked_by'"
          ]
        }
      ]
    },
    {
      "cell_type": "code",
      "metadata": {
        "id": "dIoZ16sNGCfo",
        "colab_type": "code",
        "colab": {}
      },
      "source": [
        ""
      ],
      "execution_count": null,
      "outputs": []
    }
  ]
}