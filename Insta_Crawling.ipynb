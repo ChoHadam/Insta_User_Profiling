{
  "nbformat": 4,
  "nbformat_minor": 0,
  "metadata": {
    "colab": {
      "name": "Insta_Crawling.ipynb",
      "provenance": [],
      "collapsed_sections": [],
      "authorship_tag": "ABX9TyMQOUR1IGnwZJIkAvhGeslv",
      "include_colab_link": true
    },
    "kernelspec": {
      "name": "python3",
      "display_name": "Python 3"
    }
  },
  "cells": [
    {
      "cell_type": "markdown",
      "metadata": {
        "id": "view-in-github",
        "colab_type": "text"
      },
      "source": [
        "<a href=\"https://colab.research.google.com/github/ChoHadam/Insta_User_Profiling/blob/master/Insta_Crawling.ipynb\" target=\"_parent\"><img src=\"https://colab.research.google.com/assets/colab-badge.svg\" alt=\"Open In Colab\"/></a>"
      ]
    },
    {
      "cell_type": "code",
      "metadata": {
        "id": "H5yPVxceT1JS",
        "colab_type": "code",
        "colab": {}
      },
      "source": [
        "import requests, re, json, urllib, datetime\n",
        "import pandas as pd\n",
        "from bs4 import BeautifulSoup\n",
        "\n",
        "#search = '%EC%9D%B4%EC%8A%B9%EA%B8%B0'\n",
        "#def insta(query):\n",
        "#search = urllib.parse.quote(query)\n",
        "\n",
        "# 헤더 저장\n",
        "headers = {\n",
        "            'cookie' : 'ig_did=1DB997A1-85F5-410B-A44B-DB3A31DE9BF2; mid=XxLtBgALAAHy9DlenU_IjVp8c-vI; shbid=980; shbts=1598087426.6782475; rur=FTW; csrftoken=LGgCJTUqYeDAiBKvjlpy3i6CQ6qlKTd4; ds_user_id=40876776643; sessionid=40876776643%3A9Bs8Y8rng4spJB%3A6; urlgen=\"{\\\"211.105.47.207\\\": 4766\\054 \\\"222.107.238.125\\\": 4766}:1kAUCE:skN6K55jOiUXtdsowH6nZ-EcpSg\"',\n",
        "            'user-agent' : 'Mozilla/5.0 (Windows NT 10.0; Win64; x64) AppleWebKit/537.36 (KHTML, like Gecko) Chrome/84.0.4147.135 Safari/537.36',\n",
        "            }\n",
        "    \n",
        "# 해시 태그 설정\n",
        "tags = \"10대\"\n",
        "\n",
        "res = requests.get('https://www.instagram.com/explore/tags/{}/?__a=1'.format(tags), headers = headers)\n",
        "res.encoding = 'utf-8'\n",
        "js = json.loads(res.text)"
      ],
      "execution_count": 120,
      "outputs": []
    },
    {
      "cell_type": "code",
      "metadata": {
        "id": "H9ILZj6OoRBX",
        "colab_type": "code",
        "colab": {
          "base_uri": "https://localhost:8080/",
          "height": 34
        },
        "outputId": "059232a4-11b5-4f6b-bce0-38a3af674e09"
      },
      "source": [
        "user_id = []\n",
        "\n",
        "for i in js['graphql']['hashtag']['edge_hashtag_to_media']['edges']:\n",
        "    # user 이름으로 접속할 경우 게시글이 다른 게시물로 넘어감\n",
        "    user_id.append(i['node']['owner']['id'])\n",
        "\n",
        "user_id = list(set(user_id))\n",
        "user_id[:5]"
      ],
      "execution_count": 121,
      "outputs": [
        {
          "output_type": "execute_result",
          "data": {
            "text/plain": [
              "['2914108876', '16624086104', '1956213714', '8309799315', '1697883501']"
            ]
          },
          "metadata": {
            "tags": []
          },
          "execution_count": 121
        }
      ]
    },
    {
      "cell_type": "code",
      "metadata": {
        "id": "F96lMlGHhlZ4",
        "colab_type": "code",
        "colab": {}
      },
      "source": [
        "\"\"\"\n",
        "post_user 형태\n",
        "{\"user_ID\" : { \"user_name\", \"post_content\" : [{\"post_code\", \"post_text\", \"post_location\", \"post_time\", \"post_like\"},\n",
        "                                              {\"post_code\", \"post_text\", \"post_location\", \"post_time\", \"post_like\"}]}}}\n",
        "post_reply\n",
        "{\"post_code\" : {'reply_user_name, \"reply_content\" : [{\"reply_text\", \"reply_time\"}]}}                                            \n",
        "\"\"\"\n",
        "\n",
        "import time\n",
        "\n",
        "post_users = {}\n",
        "post_replys = {}\n",
        "crawl_count = 0\n",
        "codes = []\n",
        "\n",
        "for user in user_id:\n",
        "    id_url = 'https://www.instagram.com/graphql/query/?query_hash=bfa387b2992c3a52dcbe447467b4b771&variables=%7B\"id\"%3A\"{}\"%2C\"first\"%3A12'.format(user)\n",
        "    url_end = '%7D'\n",
        "    res1 = requests.get(id_url + url_end, headers=headers)\n",
        "    res1.encoding = 'utf-8'\n",
        "    js1 = json.loads(res1.text)\n",
        "\n",
        "    new_post = {}\n",
        "    new_reply = {}\n",
        "\n",
        "    for i in range(len(js1['data']['user']['edge_owner_to_timeline_media']['edges'])):\n",
        "        # 크롤링 횟수 카운트\n",
        "        crawl_count += 1\n",
        "        if crawl_count > 200:\n",
        "            time.sleep(300)\n",
        "\n",
        "        # 크롤링 진행 상황 출력\n",
        "        if int(crawl_count) % 100 == 0:\n",
        "            print(\"=\" * 50)\n",
        "            print(\"크롤링 횟수 : \" + str(crawl_count))\n",
        "\n",
        "        user_id = js1['data']['user']['edge_owner_to_timeline_media']['edges'][i]['node']['owner']['id'] # 유저 아이디 기준으로 딕셔너리 생성\n",
        "        post_code = js1['data']['user']['edge_owner_to_timeline_media']['edges'][i]['node']['shortcode']\n",
        "        codes.append(post_code)\n",
        "\n",
        "         # 게시물 크롤링\n",
        "\n",
        "        if user_id not in new_post.keys() :\n",
        "            new_post[user_id] = {}\n",
        "        new_post[user_id]['user_name'] = js1['data']['user']['edge_owner_to_timeline_media']['edges'][i]['node']['owner']['username']\n",
        "        if js1['data']['user']['edge_owner_to_timeline_media']['edges'][i]['node']['edge_media_to_caption']['edges'] != []:\n",
        "            text = js1['data']['user']['edge_owner_to_timeline_media']['edges'][i]['node']['edge_media_to_caption']['edges'][0]['node']['text']\n",
        "        else:\n",
        "            text = None\n",
        "        if js1['data']['user']['edge_owner_to_timeline_media']['edges'][i]['node']['location'] != None:\n",
        "            location = js1['data']['user']['edge_owner_to_timeline_media']['edges'][i]['node']['location']['name']\n",
        "        else:\n",
        "            location = None\n",
        "        \n",
        "        if 'post_content' not in new_post[user_id].keys():\n",
        "            new_post[user_id]['post_content'] = []\n",
        "        \n",
        "        new_post[user_id]['post_content'].append({'post_code' : post_code,\n",
        "                                                  'post_text' : text, \n",
        "                                                  'post_time' : (datetime.datetime.fromtimestamp(int(js1['data']['user']['edge_owner_to_timeline_media']['edges'][i]['node']['taken_at_timestamp']))).strftime('%Y-%m-%d %H:%M:%S'),\n",
        "                                                  'post_location' : location,\n",
        "                                                  'post_like' : js1['data']['user']['edge_owner_to_timeline_media']['edges'][i]['node']['edge_media_preview_like']['count']})\n",
        "        \n",
        "        #댓글 크롤링\n",
        "        if js1['data']['user']['edge_owner_to_timeline_media']['edges'][i]['node']['edge_media_to_comment']['count'] == 0:\n",
        "            new_reply[post_code] = None\n",
        "        else:\n",
        "            if post_code not in new_reply.keys() :\n",
        "                new_reply[post_code] = {}\n",
        "\n",
        "            for j in range(len(js1['data']['user']['edge_owner_to_timeline_media']['edges'][i]['node']['edge_media_to_comment']['edges'])):\n",
        "                reply_user_name = js1['data']['user']['edge_owner_to_timeline_media']['edges'][i]['node']['edge_media_to_comment']['edges'][j]['node']['owner']['username']\n",
        "                if reply_user_name not in new_reply[post_code].keys():\n",
        "                    new_reply[post_code][reply_user_name] = []\n",
        "                new_reply[post_code][reply_user_name].append({'reply_text' : js1['data']['user']['edge_owner_to_timeline_media']['edges'][i]['node']['edge_media_to_comment']['edges'][j]['node']['text'],\n",
        "                                                              'reply_time' : (datetime.datetime.fromtimestamp(int(js1['data']['user']['edge_owner_to_timeline_media']['edges'][i]['node']['edge_media_to_comment']['edges'][j]['node']['created_at']))).strftime('%Y-%m-%d %H:%M:%S')})\n",
        "        if post_code not in post_replys.keys() :\n",
        "            post_replys[post_code] = new_reply[post_code]\n",
        "        else :\n",
        "            post_replys[post_code]['reply_content'] = post_replys[post_code]['reply_content'] + new_reply[post_code]['reply_content']   \n",
        "        \n",
        "    if user_id not in post_users.keys() :\n",
        "        post_users[user_id] = new_post[user_id]\n",
        "    else :\n",
        "        post_users[user_id]['post_content'] = post_users[user_id]['post_content'] + new_post[user_id]['post_content']"
      ],
      "execution_count": null,
      "outputs": []
    },
    {
      "cell_type": "code",
      "metadata": {
        "id": "PrdO16qWDcxz",
        "colab_type": "code",
        "colab": {
          "base_uri": "https://localhost:8080/",
          "height": 158
        },
        "outputId": "d3998261-dcb4-4240-f0fe-979ccc9c6b70"
      },
      "source": [
        "post_replys['B6fe7JjHELb']"
      ],
      "execution_count": 127,
      "outputs": [
        {
          "output_type": "execute_result",
          "data": {
            "text/plain": [
              "{'__chaeni_._': [{'reply_text': '@hyunehoney 그냥 맛가버림',\n",
              "   'reply_time': '2019-12-25 17:33:27'}],\n",
              " 'hyunesnewacc_': [{'reply_text': '@hyunehoney 뻥쟁이 나 배고파 밥조!!!!',\n",
              "   'reply_time': '2019-12-25 17:33:14'}],\n",
              " 'iam0gene': [{'reply_text': '@hyunesnewacc_ 내가 더 사랑해 ㅎㅎ 못생긴 사진이 대체어딨어??? 아무리 봐도 이쁜사진 밖에 없어!',\n",
              "   'reply_time': '2019-12-25 17:32:39'},\n",
              "  {'reply_text': '@__chaeni_._ 너도 이제 한물 갔냐?',\n",
              "   'reply_time': '2019-12-25 17:32:59'}]}"
            ]
          },
          "metadata": {
            "tags": []
          },
          "execution_count": 127
        }
      ]
    }
  ]
}