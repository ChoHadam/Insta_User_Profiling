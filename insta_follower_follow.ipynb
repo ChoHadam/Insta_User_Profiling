{
  "nbformat": 4,
  "nbformat_minor": 0,
  "metadata": {
    "colab": {
      "name": "insta_follower_follow.ipynb",
      "provenance": [],
      "collapsed_sections": [],
      "authorship_tag": "ABX9TyM91dEPorVm6qQILk33ENdS",
      "include_colab_link": true
    },
    "kernelspec": {
      "name": "python3",
      "display_name": "Python 3"
    }
  },
  "cells": [
    {
      "cell_type": "markdown",
      "metadata": {
        "id": "view-in-github",
        "colab_type": "text"
      },
      "source": [
        "<a href=\"https://colab.research.google.com/github/ChoHadam/Insta_User_Profiling/blob/master/insta_follower_follow.ipynb\" target=\"_parent\"><img src=\"https://colab.research.google.com/assets/colab-badge.svg\" alt=\"Open In Colab\"/></a>"
      ]
    },
    {
      "cell_type": "code",
      "metadata": {
        "id": "JXh_hUK_T7bN",
        "colab_type": "code",
        "colab": {}
      },
      "source": [
        "import re\n",
        "from tqdm import tqdm\n",
        "import requests\n",
        "import json\n",
        "from bs4 import BeautifulSoup\n",
        "import requests, re, json, urllib, datetime\n",
        "import pandas as pd\n",
        "from bs4 import BeautifulSoup\n",
        "\n"
      ],
      "execution_count": null,
      "outputs": []
    },
    {
      "cell_type": "code",
      "metadata": {
        "id": "jZagcp3cq3fa",
        "colab_type": "code",
        "colab": {}
      },
      "source": [
        ""
      ],
      "execution_count": null,
      "outputs": []
    },
    {
      "cell_type": "markdown",
      "metadata": {
        "id": "swvR3TKbt599",
        "colab_type": "text"
      },
      "source": [
        "# follower "
      ]
    },
    {
      "cell_type": "code",
      "metadata": {
        "id": "jGRJm17Yq5vK",
        "colab_type": "code",
        "colab": {}
      },
      "source": [
        "insta_id = 1532323530\n",
        "headers = {\n",
        "            'cookie' : 'ig_did=46DE0419-EFCD-459F-A1C8-543AAD7A837E; mid=XzuGtgALAAFt0YG8Aq3XWbhvJ0gc; csrftoken=gGjx90efuXwVu8CMzPhSjZn2Y20rdiB8; ds_user_id=17901285934; sessionid=17901285934%3ADArEAOlFFJK0gh%3A11; shbid=8668; rur=ASH; shbts=1597999883.7194874; urlgen=\"{\\\"2001:e60:9132:b9f9:7929:b07a:6159:a194\\\": 4766\\054 \\\"222.107.238.125\\\": 4766}:1kA2FL:56cZuVVM1gYrb9YJTOGL7dAlcyI\"',\n",
        "            'user-agent' : 'Mozilla/5.0 (Windows NT 10.0; Win64; x64) AppleWebKit/537.36 (KHTML, like Gecko) Chrome/84.0.4147.125 Safari/537.36'\n",
        "            }\n",
        "\n",
        "\n",
        "# res에 id넣어서 팔로우보기 \n",
        "first_url = \"https://www.instagram.com/graphql/query/?query_hash=c76146de99bb02f6415203be841dd25a&variables=%7B%22id%22%3A%22{}%22%2C%22include_reel%22%3Atrue%2C%22fetch_mutual%22%3Atrue%2C%22first%22%3A24%7D\".format(insta_id)\n",
        "res_follower = requests.get(first_url,headers = headers)\n",
        "res_follower.encoding = 'utf-8'\n",
        "result_dic = json.loads(res_follower.text)\n",
        "result_dic['data']['user']['edge_followed_by']['page_info']['end_cursor']\n",
        "\n",
        "\n",
        "#follow count\n",
        "result_dic['data']['user']['edge_followed_by']['count']\n",
        "\n",
        "# id, username : 완료 -> 딕셔너리에 넣을것 \n",
        "# follow = []\n",
        "# for i in range(len(result_dic['data']['user']['edge_followed_by']['edges'])):\n",
        "#     follow.append({\"id\" : result_dic['data']['user']['edge_followed_by']['edges'][i]['node']['reel']['owner']['id'], \n",
        "#                     \"user_name\" : result_dic['data']['user']['edge_followed_by']['edges'][i]['node']['reel']['owner']['username']})\n",
        "# print(len(follow))\n",
        "\n",
        "# end cursor, nextpage TF\n",
        "# result_dic['data']['user']['edge_followed_by']['page_info']['end_cursor']\n",
        "# result_dic['data']['user']['edge_followed_by']['page_info']['has_next_page']\n",
        "\n",
        "# # 스크롤 내리기\n",
        "# end_cursor = result_dic['data']['user']['edge_followed_by']['page_info']['end_cursor']\n",
        "# res = requests.get(\"https://www.instagram.com/graphql/query/?query_hash=d04b0a864b4b54837c0d870b0e77e076&variables=%7B%22id%22%3A%22{}%22%2C%22include_reel%22%3Atrue%2C%22fetch_mutual%22%3Afalse%2C%22first%22%3A12%2C%22after%22%3A%22{}%3D%3D%22%7D\".format(insta_id,end_cursor[:-2]),headers= headers)\n",
        "\n",
        "# # 반복문 진행 \n",
        "cnt = 0\n",
        "follower = []\n",
        "while True : # has_next_page가 true인동안 \n",
        "    try:\n",
        "        if result_dic['data']['user']['edge_followed_by']['page_info']['has_next_page'] == True :\n",
        "            for i in tqdm(range(len(result_dic['data']['user']['edge_followed_by']['edges']))):\n",
        "                follower.append({\"id\" : result_dic['data']['user']['edge_followed_by']['edges'][i]['node']['reel']['owner']['id'], \n",
        "                                \"user_name\" : result_dic['data']['user']['edge_followed_by']['edges'][i]['node']['reel']['owner']['username']})\n",
        "            end_cursor = result_dic['data']['user']['edge_followed_by']['page_info']['end_cursor']\n",
        "            # has_next_page = result_dic['data']['user']['edge_follow']['page_info']['has_next_page']\n",
        "            res = requests.get(\"https://www.instagram.com/graphql/query/?query_hash=c76146de99bb02f6415203be841dd25a&variables=%7B%22id%22%3A%22{}%22%2C%22include_reel%22%3Atrue%2C%22fetch_mutual%22%3Afalse%2C%22first%22%3A20%2C%22after%22%3A%22{}%3D%3D%22%7D\".format(insta_id, end_cursor[:-2]),headers= headers)\n",
        "            res.encoding = 'utf-8'\n",
        "            result_dic = json.loads(res.text)\n",
        "            cnt += len(result_dic['data']['user']['edge_followed_by']['edges'])\n",
        "        else:\n",
        "            print(result_dic['data']['user']['edge_followed_by']['page_info'])\n",
        "            break\n",
        "    except : \n",
        "            # result_dic['data']['user']['edge_follow']['page_info']['has_next_page']\n",
        "            result_dic\n",
        "cnt\n"
      ],
      "execution_count": null,
      "outputs": []
    },
    {
      "cell_type": "code",
      "metadata": {
        "id": "-Z65u5yquF0N",
        "colab_type": "code",
        "colab": {}
      },
      "source": [
        "follower"
      ],
      "execution_count": null,
      "outputs": []
    },
    {
      "cell_type": "markdown",
      "metadata": {
        "id": "2CZtRkypt8dM",
        "colab_type": "text"
      },
      "source": [
        "# follow"
      ]
    },
    {
      "cell_type": "code",
      "metadata": {
        "id": "iwBaW6iot90L",
        "colab_type": "code",
        "colab": {}
      },
      "source": [
        "insta_id = 1532323530\n",
        "headers = {\n",
        "            'cookie' : 'ig_did=46DE0419-EFCD-459F-A1C8-543AAD7A837E; mid=XzuGtgALAAFt0YG8Aq3XWbhvJ0gc; csrftoken=gGjx90efuXwVu8CMzPhSjZn2Y20rdiB8; ds_user_id=17901285934; sessionid=17901285934%3ADArEAOlFFJK0gh%3A11; shbid=8668; rur=ASH; shbts=1597999883.7194874; urlgen=\"{\\\"2001:e60:9132:b9f9:7929:b07a:6159:a194\\\": 4766\\054 \\\"222.107.238.125\\\": 4766}:1kA2FL:56cZuVVM1gYrb9YJTOGL7dAlcyI\"',\n",
        "            'user-agent' : 'Mozilla/5.0 (Windows NT 10.0; Win64; x64) AppleWebKit/537.36 (KHTML, like Gecko) Chrome/84.0.4147.125 Safari/537.36'\n",
        "            }\n",
        "\n",
        "\n",
        "# res에 id넣어서 팔로우보기 \n",
        "first_url = \"https://www.instagram.com/graphql/query/?query_hash=d04b0a864b4b54837c0d870b0e77e076&variables=%7B%22id%22%3A%22{}%22%2C%22include_reel%22%3Atrue%2C%22fetch_mutual%22%3Afalse%2C%22first%22%3A24%7D\".format(insta_id)\n",
        "res_follow = requests.get(first_url,headers = headers)\n",
        "res_follow.encoding = 'utf-8'\n",
        "result_dic = json.loads(res_follow.text)\n",
        "result_dic['data']['user']['edge_follow']['page_info']['end_cursor']\n",
        "\n",
        "\n",
        "#follow count\n",
        "result_dic['data']['user']['edge_follow']['count']\n",
        "\n",
        "# id, username : 완료 -> 딕셔너리에 넣을것 \n",
        "# follow = []\n",
        "# for i in range(len(result_dic['data']['user']['edge_followed_by']['edges'])):\n",
        "#     follow.append({\"id\" : result_dic['data']['user']['edge_followed_by']['edges'][i]['node']['reel']['owner']['id'], \n",
        "#                     \"user_name\" : result_dic['data']['user']['edge_followed_by']['edges'][i]['node']['reel']['owner']['username']})\n",
        "# print(len(follow))\n",
        "\n",
        "# end cursor, nextpage TF\n",
        "# result_dic['data']['user']['edge_followed_by']['page_info']['end_cursor']\n",
        "# result_dic['data']['user']['edge_followed_by']['page_info']['has_next_page']\n",
        "\n",
        "# # 스크롤 내리기\n",
        "# end_cursor = result_dic['data']['user']['edge_followed_by']['page_info']['end_cursor']\n",
        "# res = requests.get(\"https://www.instagram.com/graphql/query/?query_hash=d04b0a864b4b54837c0d870b0e77e076&variables=%7B%22id%22%3A%22{}%22%2C%22include_reel%22%3Atrue%2C%22fetch_mutual%22%3Afalse%2C%22first%22%3A12%2C%22after%22%3A%22{}%3D%3D%22%7D\".format(insta_id,end_cursor[:-2]),headers= headers)\n",
        "\n",
        "# # 반복문 진행 \n",
        "cnt = 0\n",
        "follow = []\n",
        "while True : # has_next_page가 true인동안 \n",
        "    try:\n",
        "        if result_dic['data']['user']['edge_follow']['page_info']['has_next_page'] == True :\n",
        "            for i in tqdm(range(len(result_dic['data']['user']['edge_follow']['edges']))):\n",
        "                follow.append({\"id\" : result_dic['data']['user']['edge_follow']['edges'][i]['node']['reel']['owner']['id'], \n",
        "                                \"user_name\" : result_dic['data']['user']['edge_follow']['edges'][i]['node']['reel']['owner']['username']})\n",
        "            end_cursor = result_dic['data']['user']['edge_follow']['page_info']['end_cursor']\n",
        "            # has_next_page = result_dic['data']['user']['edge_follow']['page_info']['has_next_page']\n",
        "            res = requests.get(\"https://www.instagram.com/graphql/query/?query_hash=d04b0a864b4b54837c0d870b0e77e076&variables=%7B%22id%22%3A%22{}%22%2C%22include_reel%22%3Atrue%2C%22fetch_mutual%22%3Afalse%2C%22first%22%3A13%2C%22after%22%3A%22{}%3D%3D%22%7D\".format(insta_id, end_cursor[:-2]),headers= headers)\n",
        "            res.encoding = 'utf-8'\n",
        "            result_dic = json.loads(res.text)\n",
        "            cnt += len(result_dic['data']['user']['edge_follow']['edges'])\n",
        "        else:\n",
        "            print(result_dic['data']['user']['edge_follow']['page_info'])\n",
        "            break\n",
        "    except : \n",
        "            # result_dic['data']['user']['edge_follow']['page_info']['has_next_page']\n",
        "            result_dic\n",
        "cnt\n"
      ],
      "execution_count": null,
      "outputs": []
    },
    {
      "cell_type": "code",
      "metadata": {
        "id": "rVcdVkcXuKET",
        "colab_type": "code",
        "colab": {}
      },
      "source": [
        "follow"
      ],
      "execution_count": null,
      "outputs": []
    }
  ]
}