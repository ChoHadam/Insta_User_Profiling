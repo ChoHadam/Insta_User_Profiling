{
 "cells": [
  {
   "cell_type": "code",
   "execution_count": 1,
   "metadata": {},
   "outputs": [],
   "source": [
    "# !pip install soynlp"
   ]
  },
  {
   "cell_type": "code",
   "execution_count": 2,
   "metadata": {},
   "outputs": [],
   "source": [
    "import pandas as pd\n",
    "import numpy as np"
   ]
  },
  {
   "cell_type": "code",
   "execution_count": 3,
   "metadata": {},
   "outputs": [
    {
     "data": {
      "text/html": [
       "<div>\n",
       "<style scoped>\n",
       "    .dataframe tbody tr th:only-of-type {\n",
       "        vertical-align: middle;\n",
       "    }\n",
       "\n",
       "    .dataframe tbody tr th {\n",
       "        vertical-align: top;\n",
       "    }\n",
       "\n",
       "    .dataframe thead th {\n",
       "        text-align: right;\n",
       "    }\n",
       "</style>\n",
       "<table border=\"1\" class=\"dataframe\">\n",
       "  <thead>\n",
       "    <tr style=\"text-align: right;\">\n",
       "      <th></th>\n",
       "      <th>insta_id</th>\n",
       "      <th>content</th>\n",
       "      <th>label</th>\n",
       "    </tr>\n",
       "  </thead>\n",
       "  <tbody>\n",
       "    <tr>\n",
       "      <th>0</th>\n",
       "      <td>hahajuhye</td>\n",
       "      <td>마이삭 조용히지나가길 기원하며 Rain rain go away</td>\n",
       "      <td>0.0</td>\n",
       "    </tr>\n",
       "    <tr>\n",
       "      <th>1</th>\n",
       "      <td>hahajuhye</td>\n",
       "      <td>엄마~ 오늘 재하 생일이지? 엄마~ 오늘 재야 생일이디~? 엄마~ 엄ㅁㅏ~  #그래...</td>\n",
       "      <td>0.0</td>\n",
       "    </tr>\n",
       "    <tr>\n",
       "      <th>2</th>\n",
       "      <td>hahajuhye</td>\n",
       "      <td>조..좋은언니...2</td>\n",
       "      <td>0.0</td>\n",
       "    </tr>\n",
       "    <tr>\n",
       "      <th>3</th>\n",
       "      <td>hahajuhye</td>\n",
       "      <td>좋은언니♡ #흔들리는너의눈동자 #걱정마엄마여기있다</td>\n",
       "      <td>0.0</td>\n",
       "    </tr>\n",
       "    <tr>\n",
       "      <th>4</th>\n",
       "      <td>hahajuhye</td>\n",
       "      <td>Look Im serious</td>\n",
       "      <td>0.0</td>\n",
       "    </tr>\n",
       "  </tbody>\n",
       "</table>\n",
       "</div>"
      ],
      "text/plain": [
       "    insta_id                                            content  label\n",
       "0  hahajuhye                 마이삭 조용히지나가길 기원하며 Rain rain go away    0.0\n",
       "1  hahajuhye  엄마~ 오늘 재하 생일이지? 엄마~ 오늘 재야 생일이디~? 엄마~ 엄ㅁㅏ~  #그래...    0.0\n",
       "2  hahajuhye                                        조..좋은언니...2    0.0\n",
       "3  hahajuhye                        좋은언니♡ #흔들리는너의눈동자 #걱정마엄마여기있다    0.0\n",
       "4  hahajuhye                                    Look Im serious    0.0"
      ]
     },
     "execution_count": 3,
     "metadata": {},
     "output_type": "execute_result"
    }
   ],
   "source": [
    "df = pd.read_csv(\"post.csv\",engine = \"python\",encoding = \"utf-8\",usecols = [\"insta_id\",\"content\",\"label\"])\n",
    "df.head()"
   ]
  },
  {
   "cell_type": "code",
   "execution_count": 4,
   "metadata": {},
   "outputs": [],
   "source": [
    "def del_escape(text):\n",
    "    char_ls = list(text)\n",
    "    reduced_ls = [char for char in char_ls if \"{c!r}\".format(c = char).replace(\"'\",\"\") == char]\n",
    "    return \"\".join(reduced_ls)"
   ]
  },
  {
   "cell_type": "code",
   "execution_count": 5,
   "metadata": {},
   "outputs": [],
   "source": [
    "df.dropna(inplace = True)\n",
    "df[\"content\"] = df[\"content\"].apply(del_escape)\n",
    "df.dropna(inplace = True)"
   ]
  },
  {
   "cell_type": "code",
   "execution_count": 6,
   "metadata": {},
   "outputs": [],
   "source": [
    "df[\"content\"].to_csv(\"post_content.csv\",index = False)"
   ]
  },
  {
   "cell_type": "code",
   "execution_count": 7,
   "metadata": {},
   "outputs": [],
   "source": [
    "from soynlp import DoublespaceLineCorpus\n",
    "\n",
    "corpus_path = \"post_content.csv\"\n",
    "sentences = DoublespaceLineCorpus(corpus_path, iter_sent=True)"
   ]
  },
  {
   "cell_type": "code",
   "execution_count": 8,
   "metadata": {},
   "outputs": [
    {
     "name": "stdout",
     "output_type": "stream",
     "text": [
      "[Noun Extractor] use default predictors\n",
      "[Noun Extractor] num features: pos=3929, neg=2321, common=107\n",
      "[Noun Extractor] counting eojeols\n",
      "[EojeolCounter] n eojeol = 6352947 from 2987868 sents. mem=2.521 Gb                    \n",
      "[Noun Extractor] complete eojeol counter -> lr graph\n",
      "[Noun Extractor] has been trained. #eojeols=33867543, mem=20.677 Gb\n",
      "[Noun Extractor] batch prediction was completed for 1064608 words\n",
      "[Noun Extractor] checked compounds. discovered 1772500 compounds\n",
      "[Noun Extractor] postprocessing detaching_features : 698 -> 693\n",
      "[Noun Extractor] postprocessing ignore_features : 693 -> 639\n",
      "[Noun Extractor] postprocessing ignore_NJ : 639 -> 622\n",
      "[Noun Extractor] 622 nouns (1772500 compounds) with min frequency=3000\n",
      "[Noun Extractor] flushing was done. mem=19.649 Gb                    \n",
      "[Noun Extractor] 25.26 % eojeols are covered\n"
     ]
    }
   ],
   "source": [
    "from soynlp.word import WordExtractor\n",
    "from soynlp.noun import LRNounExtractor_v2\n",
    "noun_extractor = LRNounExtractor_v2()\n",
    "\n",
    "noun_extractor.train(sentences) # list of str or like\n",
    "nouns = noun_extractor.extract(min_noun_frequency = 3000)"
   ]
  },
  {
   "cell_type": "code",
   "execution_count": 9,
   "metadata": {},
   "outputs": [
    {
     "data": {
      "text/plain": [
       "622"
      ]
     },
     "execution_count": 9,
     "metadata": {},
     "output_type": "execute_result"
    }
   ],
   "source": [
    "len(nouns)"
   ]
  },
  {
   "cell_type": "code",
   "execution_count": 10,
   "metadata": {},
   "outputs": [
    {
     "data": {
      "text/html": [
       "<div>\n",
       "<style scoped>\n",
       "    .dataframe tbody tr th:only-of-type {\n",
       "        vertical-align: middle;\n",
       "    }\n",
       "\n",
       "    .dataframe tbody tr th {\n",
       "        vertical-align: top;\n",
       "    }\n",
       "\n",
       "    .dataframe thead th {\n",
       "        text-align: right;\n",
       "    }\n",
       "</style>\n",
       "<table border=\"1\" class=\"dataframe\">\n",
       "  <thead>\n",
       "    <tr style=\"text-align: right;\">\n",
       "      <th></th>\n",
       "      <th>insta_id</th>\n",
       "      <th>label</th>\n",
       "    </tr>\n",
       "  </thead>\n",
       "  <tbody>\n",
       "    <tr>\n",
       "      <th>0</th>\n",
       "      <td>0._.do__</td>\n",
       "      <td>1.0</td>\n",
       "    </tr>\n",
       "    <tr>\n",
       "      <th>1</th>\n",
       "      <td>0.____.won</td>\n",
       "      <td>1.0</td>\n",
       "    </tr>\n",
       "    <tr>\n",
       "      <th>2</th>\n",
       "      <td>000._.bd</td>\n",
       "      <td>0.0</td>\n",
       "    </tr>\n",
       "    <tr>\n",
       "      <th>3</th>\n",
       "      <td>00000_min04</td>\n",
       "      <td>0.0</td>\n",
       "    </tr>\n",
       "    <tr>\n",
       "      <th>4</th>\n",
       "      <td>00_12.21</td>\n",
       "      <td>0.0</td>\n",
       "    </tr>\n",
       "  </tbody>\n",
       "</table>\n",
       "</div>"
      ],
      "text/plain": [
       "      insta_id  label\n",
       "0     0._.do__    1.0\n",
       "1   0.____.won    1.0\n",
       "2     000._.bd    0.0\n",
       "3  00000_min04    0.0\n",
       "4     00_12.21    0.0"
      ]
     },
     "execution_count": 10,
     "metadata": {},
     "output_type": "execute_result"
    }
   ],
   "source": [
    "user_seg_df = df.pivot_table(index=\"insta_id\",values=[\"label\"],aggfunc=\"median\")\n",
    "user_seg_df = user_seg_df.reset_index()\n",
    "user_seg_df.head()"
   ]
  },
  {
   "cell_type": "code",
   "execution_count": 11,
   "metadata": {},
   "outputs": [
    {
     "data": {
      "text/html": [
       "<div>\n",
       "<style scoped>\n",
       "    .dataframe tbody tr th:only-of-type {\n",
       "        vertical-align: middle;\n",
       "    }\n",
       "\n",
       "    .dataframe tbody tr th {\n",
       "        vertical-align: top;\n",
       "    }\n",
       "\n",
       "    .dataframe thead th {\n",
       "        text-align: right;\n",
       "    }\n",
       "</style>\n",
       "<table border=\"1\" class=\"dataframe\">\n",
       "  <thead>\n",
       "    <tr style=\"text-align: right;\">\n",
       "      <th></th>\n",
       "      <th>insta_id</th>\n",
       "      <th>content</th>\n",
       "    </tr>\n",
       "  </thead>\n",
       "  <tbody>\n",
       "    <tr>\n",
       "      <th>0</th>\n",
       "      <td>0._.do__</td>\n",
       "      <td>약속은 약속이니까✨ ㅋㅋ ㅋ ㅋ 내일도 인증해야지 .. 그래...</td>\n",
       "    </tr>\n",
       "    <tr>\n",
       "      <th>1</th>\n",
       "      <td>0.____.won</td>\n",
       "      <td>추억82☆......빨대길이가 왜 다른거야 갑자기 신경쓰여🤨 Photo by @ye...</td>\n",
       "    </tr>\n",
       "    <tr>\n",
       "      <th>2</th>\n",
       "      <td>000._.bd</td>\n",
       "      <td>͏s͏i͏m͏p͏l͏e ͏i͏s ͏t͏h͏e ͏b͏e͏s͏t아프로뒷태여신이거 올리래...</td>\n",
       "    </tr>\n",
       "    <tr>\n",
       "      <th>3</th>\n",
       "      <td>00000_min04</td>\n",
       "      <td>배구에 다시 반해버렸다Gs 화이팅... 박혜민 선수 화이팅..❤❤Good frien...</td>\n",
       "    </tr>\n",
       "    <tr>\n",
       "      <th>4</th>\n",
       "      <td>00_12.21</td>\n",
       "      <td>나 승모근 굉장한 사람이니까 깝치면 다 뒤진다･ﾟ⋆ 🎀  𝒯𝒽𝑒 𝒹𝒶𝓃𝒷𝒾𝓃𝑒 🎀 ...</td>\n",
       "    </tr>\n",
       "  </tbody>\n",
       "</table>\n",
       "</div>"
      ],
      "text/plain": [
       "      insta_id                                            content\n",
       "0     0._.do__  약속은 약속이니까✨ ㅋㅋ ㅋ ㅋ 내일도 인증해야지 .. 그래...\n",
       "1   0.____.won  추억82☆......빨대길이가 왜 다른거야 갑자기 신경쓰여🤨 Photo by @ye...\n",
       "2     000._.bd  ͏s͏i͏m͏p͏l͏e ͏i͏s ͏t͏h͏e ͏b͏e͏s͏t아프로뒷태여신이거 올리래...\n",
       "3  00000_min04  배구에 다시 반해버렸다Gs 화이팅... 박혜민 선수 화이팅..❤❤Good frien...\n",
       "4     00_12.21  나 승모근 굉장한 사람이니까 깝치면 다 뒤진다･ﾟ⋆ 🎀  𝒯𝒽𝑒 𝒹𝒶𝓃𝒷𝒾𝓃𝑒 🎀 ..."
      ]
     },
     "execution_count": 11,
     "metadata": {},
     "output_type": "execute_result"
    }
   ],
   "source": [
    "user_text_df = df.pivot_table(index=\"insta_id\",values=[\"content\"],aggfunc=\"sum\")\n",
    "user_text_df = user_text_df.reset_index()\n",
    "user_text_df.head()"
   ]
  },
  {
   "cell_type": "code",
   "execution_count": 17,
   "metadata": {},
   "outputs": [
    {
     "data": {
      "text/html": [
       "<div>\n",
       "<style scoped>\n",
       "    .dataframe tbody tr th:only-of-type {\n",
       "        vertical-align: middle;\n",
       "    }\n",
       "\n",
       "    .dataframe tbody tr th {\n",
       "        vertical-align: top;\n",
       "    }\n",
       "\n",
       "    .dataframe thead th {\n",
       "        text-align: right;\n",
       "    }\n",
       "</style>\n",
       "<table border=\"1\" class=\"dataframe\">\n",
       "  <thead>\n",
       "    <tr style=\"text-align: right;\">\n",
       "      <th></th>\n",
       "      <th>insta_id</th>\n",
       "      <th>content</th>\n",
       "    </tr>\n",
       "  </thead>\n",
       "  <tbody>\n",
       "    <tr>\n",
       "      <th>0</th>\n",
       "      <td>163kg__</td>\n",
       "      <td>내 주변엔 좋은사람들만 있어서 행복해막내동생이랑🤪내 코 언제 나아,,,초딩아님‼️1...</td>\n",
       "    </tr>\n",
       "    <tr>\n",
       "      <th>1</th>\n",
       "      <td>97s_ba_e</td>\n",
       "      <td>마니 컸다..세탁실 앞에서 자는 그는..하루종일 잔다#사기 #보이스피싱  조심하세요...</td>\n",
       "    </tr>\n",
       "    <tr>\n",
       "      <th>2</th>\n",
       "      <td>again._.ty</td>\n",
       "      <td>#다시 #짧은 #글귀 #글 #시 #데일리#사진 #빛바랜 #추억 #칠하기#팔로우좋아요...</td>\n",
       "    </tr>\n",
       "    <tr>\n",
       "      <th>3</th>\n",
       "      <td>anyeji620</td>\n",
       "      <td>성남시 청년지원센터해피봄스데이🥳🥳.청년이봄 1주년 축하드립니다&gt;&lt;코로나19로 인해 ...</td>\n",
       "    </tr>\n",
       "    <tr>\n",
       "      <th>4</th>\n",
       "      <td>clothing.wholesaler</td>\n",
       "      <td>동대문~땡!ㆍ도매언니/밤시장/ 밴드로 초대합니다.아래를 클릭하시면 밴드 가입 가능하...</td>\n",
       "    </tr>\n",
       "  </tbody>\n",
       "</table>\n",
       "</div>"
      ],
      "text/plain": [
       "              insta_id                                            content\n",
       "0              163kg__  내 주변엔 좋은사람들만 있어서 행복해막내동생이랑🤪내 코 언제 나아,,,초딩아님‼️1...\n",
       "1             97s_ba_e  마니 컸다..세탁실 앞에서 자는 그는..하루종일 잔다#사기 #보이스피싱  조심하세요...\n",
       "2           again._.ty  #다시 #짧은 #글귀 #글 #시 #데일리#사진 #빛바랜 #추억 #칠하기#팔로우좋아요...\n",
       "3            anyeji620  성남시 청년지원센터해피봄스데이🥳🥳.청년이봄 1주년 축하드립니다><코로나19로 인해 ...\n",
       "4  clothing.wholesaler  동대문~땡!ㆍ도매언니/밤시장/ 밴드로 초대합니다.아래를 클릭하시면 밴드 가입 가능하..."
      ]
     },
     "execution_count": 17,
     "metadata": {},
     "output_type": "execute_result"
    }
   ],
   "source": [
    "test_df=pd.read_csv(\"community.csv\")\n",
    "test_df.head()"
   ]
  },
  {
   "cell_type": "code",
   "execution_count": 20,
   "metadata": {},
   "outputs": [],
   "source": [
    "from sklearn.svm import SVC\n",
    "pred_ls = list()\n",
    "for k in range(4):\n",
    "    dic = {}\n",
    "\n",
    "    for term in nouns:\n",
    "        try:\n",
    "            reduced_term = term.replace(\"(\",\"\").replace(\")\",\"\")\n",
    "            dic[reduced_term] = [sum(df.loc[df[\"label\"] == k][\"content\"].str.contains(reduced_term)),sum(df[\"label\"] == k)-sum(df.loc[df[\"label\"] == k][\"content\"].str.contains(reduced_term)),\n",
    "               sum(df.loc[df[\"label\"] != k][\"content\"].str.contains(reduced_term)),sum(df[\"label\"] != k)-sum(df.loc[df[\"label\"] != k][\"content\"].str.contains(reduced_term))]\n",
    "        except:\n",
    "            pass\n",
    "    mll_dm = {}\n",
    "    mll_im = {}\n",
    "    aic_dm = {}\n",
    "    aic_im = {}\n",
    "    relevance = {}\n",
    "    eps = 1e-12\n",
    "    for x in dic:\n",
    "        mll_dm[x] = dic[x][0]*np.log(dic[x][0]+eps)+dic[x][1]*np.log(dic[x][1]+eps)+dic[x][2]*np.log(dic[x][2]+eps)+dic[x][3]*np.log(dic[x][3]+eps)-(len(df))*np.log(len(df))\n",
    "    for x in dic:\n",
    "        mll_im[x] = sum(df[\"label\"] == k)*np.log(sum(df[\"label\"] == k))+sum(df[\"label\"] != k)*np.log(sum(df[\"label\"] != k))+(dic[x][0]+dic[x][2])*np.log(dic[x][0]+dic[x][2]+eps)+(dic[x][1]+dic[x][3])*np.log(dic[x][1]+dic[x][3]+eps)-2*(len(df))*np.log(len(df))    \n",
    "    for x in dic:\n",
    "        aic_dm[x] = -2*mll_dm[x]+6\n",
    "    for x in dic:\n",
    "        aic_im[x] = -2*mll_im[x]+4\n",
    "    for x in dic:\n",
    "        if dic[x][0]/(dic[x][0]+dic[x][2]+eps) > dic[x][1]/(dic[x][1]+dic[x][3]+eps):\n",
    "            relevance[x] = aic_im[x]-aic_dm[x]+2\n",
    "        else:\n",
    "            relevance[x] = aic_dm[x]-aic_im[x]-2\n",
    "    characteristic_term = {}\n",
    "    i = 0\n",
    "    for x in relevance:\n",
    "        if relevance[x] > 0:\n",
    "            characteristic_term[i] = x\n",
    "            i += 1\n",
    "    X = np.array(user_text_df[\"content\"].apply(lambda x:[int(characteristic_term[i] in x) for i in range(len(characteristic_term))]).tolist())\n",
    "    y = np.array((user_seg_df[\"label\"] == k).apply(int))\n",
    "    model = SVC(probability = True)\n",
    "    model.fit(X,y)\n",
    "    X_text = np.array(test_df[\"content\"].apply(lambda x:[int(characteristic_term[i] in x) for i in range(len(characteristic_term))]).tolist())\n",
    "    pred_ls.append(model.predict_proba(X_text))"
   ]
  },
  {
   "cell_type": "code",
   "execution_count": 35,
   "metadata": {},
   "outputs": [
    {
     "data": {
      "text/plain": [
       "array([1, 1, 1, 1, 0, 1, 1, 1, 1, 1, 0, 1, 1, 0, 1, 1, 1, 0, 1, 1, 1, 1,\n",
       "       1, 1, 1, 0, 1, 1, 1, 0, 1, 1, 1, 1, 1, 1, 1, 1, 1, 0], dtype=int64)"
      ]
     },
     "execution_count": 35,
     "metadata": {},
     "output_type": "execute_result"
    }
   ],
   "source": [
    "predictions = np.array(pred_ls).transpose(1,0,2)[:,:,1].argmax(axis=1)\n",
    "predictions"
   ]
  },
  {
   "cell_type": "code",
   "execution_count": null,
   "metadata": {},
   "outputs": [],
   "source": []
  }
 ],
 "metadata": {
  "kernelspec": {
   "display_name": "Python 3",
   "language": "python",
   "name": "python3"
  },
  "language_info": {
   "codemirror_mode": {
    "name": "ipython",
    "version": 3
   },
   "file_extension": ".py",
   "mimetype": "text/x-python",
   "name": "python",
   "nbconvert_exporter": "python",
   "pygments_lexer": "ipython3",
   "version": "3.7.6"
  }
 },
 "nbformat": 4,
 "nbformat_minor": 4
}
