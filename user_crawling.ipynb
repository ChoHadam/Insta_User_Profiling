{
  "nbformat": 4,
  "nbformat_minor": 0,
  "metadata": {
    "colab": {
      "name": "user_crawling.ipynb",
      "provenance": [],
      "collapsed_sections": []
    },
    "kernelspec": {
      "name": "python3",
      "display_name": "Python 3"
    }
  },
  "cells": [
    {
      "cell_type": "markdown",
      "metadata": {
        "id": "T0cr4Q1QvOZ5",
        "colab_type": "text"
      },
      "source": [
        "태그별 인스타그램 유저 아이디 크롤링 함수 구현"
      ]
    },
    {
      "cell_type": "code",
      "metadata": {
        "id": "UvcbL_Zwp7Eu",
        "colab_type": "code",
        "colab": {}
      },
      "source": [
        "import requests\n",
        "import json\n",
        "import urllib.request\n",
        "import time\n",
        "import pandas as pd\n",
        "\n",
        "def insta_user_crawling(tag, folder_path):\n",
        "  # 헤더 저장(자신의 로그인 정보를 넣으면 됩니다!)\n",
        "  headers = {\n",
        "              'cookie' : '',\n",
        "              'user-agent': ''\n",
        "              }\n",
        "    \n",
        "  user_list = []\n",
        "  count = 0\n",
        "\n",
        "  #태그별 인스타그램 유저 아이디 크롤링\n",
        "  res = requests.get('https://www.instagram.com/explore/tags/{}/?__a=1'.format(tag), headers = headers)\n",
        "  res_dics = json.loads(res.text)\n",
        "  if len(res_dics) > 0:\n",
        "    if res_dics['graphql']['hashtag'][\"edge_hashtag_to_media\"][\"page_info\"][\"has_next_page\"] == True:\n",
        "      first_end =  res_dics['graphql']['hashtag'][\"edge_hashtag_to_media\"][\"page_info\"][\"end_cursor\"]\n",
        "      end_cursor = first_end\n",
        "      isTrue = True\n",
        "      \n",
        "      while isTrue:\n",
        "        next_url = 'https://www.instagram.com/graphql/query/?query_hash=c769cb6c71b24c8a86590b22402fda50&variables=%7B\"tag_name\"%3A\"{}\"%2C\"first\"%3A2%2C\"after\"%3A\"{}\"%7D'.format(tag, end_cursor)\n",
        "        res2 = requests.get(next_url)\n",
        "        res2_dics = json.loads(res2.text)\n",
        "\n",
        "        if len(res2_dics) > 0:\n",
        "          if len(res2_dics['data']['hashtag'][\"edge_hashtag_to_media\"]['edges']) > 0:\n",
        "            for i in res2_dics['data']['hashtag'][\"edge_hashtag_to_media\"]['edges']:\n",
        "              count += 1\n",
        "              if count%300 == 0:\n",
        "                print(count)\n",
        "                time.sleep(300) # 아이디 100개씩 크롤링 할 때마다 5분씩 쉬면서 동작\n",
        "                print()\n",
        "              user_list.append(i['node']['owner']['id'])\n",
        "          else:\n",
        "            print('해당 json 파일에 게시글 정보가 없습니다.')\n",
        "\n",
        "          if res2_dics['data']['hashtag'][\"edge_hashtag_to_media\"][\"page_info\"][\"has_next_page\"] == True:\n",
        "            end_cursor =  res2_dics['data']['hashtag'][\"edge_hashtag_to_media\"][\"page_info\"][\"end_cursor\"]  \n",
        "            print(end_cursor) \n",
        "          else:\n",
        "            isTrue = False\n",
        "  else:\n",
        "    print('해당 태그와 관련된 게시물이 없습니다.')\n",
        "\n",
        "  print(user_list)\n",
        "\n",
        "  #user_list csv파일로 저장\n",
        "  unique_user_list = list(set(user_list)) #중복된 아이디 제거\n",
        "  dataframe = pd.DataFrame(unique_user_list)\n",
        "  dataframe.to_csv(\"{}/{}.csv\".format(folder_path, tag), header=False, index = False)"
      ],
      "execution_count": 11,
      "outputs": []
    },
    {
      "cell_type": "markdown",
      "metadata": {
        "id": "tVxLYXBBtnE2",
        "colab_type": "text"
      },
      "source": [
        "insta_user_crawling 함수를 호출하여 크롤링 수행"
      ]
    },
    {
      "cell_type": "code",
      "metadata": {
        "id": "bc2XQEq3tKiB",
        "colab_type": "code",
        "colab": {}
      },
      "source": [
        "tag_list = ['대학생', '대학생공스타그램', '학사모', '개강'] #나이대와 관련된 태그 목록 작성\n",
        "\n",
        "for i in tag_list:\n",
        "  insta_user_crawling(i,\"/content/drive/My Drive/insta_users/20대\") #두번째 파라미터에 csv파일을 저장할 폴더를 입력"
      ],
      "execution_count": null,
      "outputs": []
    }
  ]
}