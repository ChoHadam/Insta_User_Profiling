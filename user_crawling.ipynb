{
  "nbformat": 4,
  "nbformat_minor": 0,
  "metadata": {
    "colab": {
      "name": "user_crawling.ipynb",
      "provenance": [],
      "collapsed_sections": []
    },
    "kernelspec": {
      "name": "python3",
      "display_name": "Python 3"
    }
  },
  "cells": [
    {
      "cell_type": "code",
      "metadata": {
        "id": "_uXwUw1qKHRN",
        "colab_type": "code",
        "colab": {}
      },
      "source": [
        "import requests\n",
        "import json\n",
        "import urllib.request\n",
        "import time\n",
        "import pandas as pd\n",
        "\n",
        "# 헤더 저장(자신의 로그인 정보를 넣으면 됩니다!)\n",
        "headers = {\n",
        "            'cookie' : '',\n",
        "            'user-agent': ''\n",
        "            }\n",
        "\n",
        "# 해시 태그 설정\n",
        "tags = \"20대\"\n",
        "user_list = []\n",
        "count = 0\n",
        "\n",
        "#첫 페이지\n",
        "res = requests.get('https://www.instagram.com/explore/tags/{}/?__a=1'.format(tags), headers = headers)\n",
        "res_dics = json.loads(res.text)\n",
        "#print(res_dics)\n",
        "if len(res_dics) > 0:\n",
        "  if res_dics['graphql']['hashtag'][\"edge_hashtag_to_media\"][\"page_info\"][\"has_next_page\"] == True:\n",
        "    first_end =  res_dics['graphql']['hashtag'][\"edge_hashtag_to_media\"][\"page_info\"][\"end_cursor\"]\n",
        "    #print(first_end)\n",
        "    end_cursor = first_end\n",
        "    isTrue = True\n",
        "\n",
        "    while isTrue:\n",
        "      next_url = 'https://www.instagram.com/graphql/query/?query_hash=c769cb6c71b24c8a86590b22402fda50&variables=%7B\"tag_name\"%3A\"{}\"%2C\"first\"%3A2%2C\"after\"%3A\"{}\"%7D'.format(tags, end_cursor)\n",
        "      res2 = requests.get(next_url)\n",
        "      res2_dics = json.loads(res2.text)\n",
        "\n",
        "      if len(res2_dics) > 0:\n",
        "\n",
        "        if len(res2_dics['data']['hashtag'][\"edge_hashtag_to_media\"]['edges']) > 0:\n",
        "          for i in res2_dics['data']['hashtag'][\"edge_hashtag_to_media\"]['edges']:\n",
        "            count += 1\n",
        "            if count%300 == 0:\n",
        "              print(count)\n",
        "              time.sleep(300)\n",
        "              print()\n",
        "            user_list.append(i['node']['owner']['id'])\n",
        "        else:\n",
        "          print('해당 json 파일에 게시글 정보가 없습니다.')\n",
        "\n",
        "        if res2_dics['data']['hashtag'][\"edge_hashtag_to_media\"][\"page_info\"][\"has_next_page\"] == True:\n",
        "          end_cursor =  res2_dics['data']['hashtag'][\"edge_hashtag_to_media\"][\"page_info\"][\"end_cursor\"]  \n",
        "          print(end_cursor) \n",
        "        else:\n",
        "          isTrue = False\n",
        "else:\n",
        "  print('해당 태그와 관련된 게시물이 없습니다.')\n",
        "\n",
        "print(user_list)\n",
        "\n",
        "#user_list csv파일로 저장\n",
        "unique_user_list = list(set(user_list))\n",
        "dataframe = pd.DataFrame(unique_user_list)\n",
        "dataframe.to_csv(\"csv파일을 저장할 폴더 경로/{}.csv\".format(tags), header=False, index = False)  #첫번째 파라미터는 저장할 csv파일을 저장할 폴더 경로로 바꿔 넣으면 됩니다!\n"
      ],
      "execution_count": null,
      "outputs": []
    }
  ]
}